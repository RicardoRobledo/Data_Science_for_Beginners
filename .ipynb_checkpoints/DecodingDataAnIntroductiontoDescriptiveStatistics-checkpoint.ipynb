{
 "cells": [
  {
   "cell_type": "code",
   "execution_count": 2,
   "id": "04cecdea-fe80-40e5-8a0e-b4eafd2f3d63",
   "metadata": {},
   "outputs": [
    {
     "name": "stdout",
     "output_type": "stream",
     "text": [
      "count      2579.000000\n",
      "mean     178053.442420\n",
      "std       75044.983207\n",
      "min       12789.000000\n",
      "25%      129950.000000\n",
      "50%      159900.000000\n",
      "75%      209750.000000\n",
      "max      755000.000000\n",
      "Name: SalePrice, dtype: float64\n"
     ]
    }
   ],
   "source": [
    "# Importing libraries and loading the dataset\n",
    "import pandas as pd\n",
    "\n",
    "Ames = pd.read_csv('Ames.csv')\n",
    "\n",
    "# Descriptive Statistics of Sales Price\n",
    "sales_price_description = Ames['SalePrice'].describe()\n",
    "print(sales_price_description)"
   ]
  },
  {
   "cell_type": "code",
   "execution_count": null,
   "id": "1b259140-50cb-47c0-9abd-39e40ae7f21a",
   "metadata": {},
   "outputs": [],
   "source": []
  }
 ],
 "metadata": {
  "kernelspec": {
   "display_name": "Python 3 (ipykernel)",
   "language": "python",
   "name": "python3"
  },
  "language_info": {
   "codemirror_mode": {
    "name": "ipython",
    "version": 3
   },
   "file_extension": ".py",
   "mimetype": "text/x-python",
   "name": "python",
   "nbconvert_exporter": "python",
   "pygments_lexer": "ipython3",
   "version": "3.11.10"
  }
 },
 "nbformat": 4,
 "nbformat_minor": 5
}
