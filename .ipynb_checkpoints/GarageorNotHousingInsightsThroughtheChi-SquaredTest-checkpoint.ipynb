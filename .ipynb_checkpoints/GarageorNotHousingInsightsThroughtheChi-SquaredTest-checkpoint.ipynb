{
 "cells": [
  {
   "cell_type": "code",
   "execution_count": 1,
   "id": "2ac0453b-c44f-4f8c-b82a-7cd0af6a6a43",
   "metadata": {},
   "outputs": [
    {
     "name": "stdout",
     "output_type": "stream",
     "text": [
      "Observed Frequencies:\n",
      "         No Garage  With Garage\n",
      "Average        121         1544\n",
      "Great            8          906\n",
      "\n",
      "Expected Frequencies:\n",
      "         No Garage  With Garage\n",
      "Average       83.3       1581.7\n",
      "Great         45.7        868.3\n",
      "\n",
      "Chi-squared Statistic: 49.4012\n",
      "p-value: 2.0862e-12\n"
     ]
    }
   ],
   "source": [
    "import pandas as pd\n",
    "from scipy.stats import chi2_contingency\n",
    "\n",
    "# Load the dataset\n",
    "Ames = pd.read_csv('Ames.csv')\n",
    "\n",
    "# Extracting the relevant columns\n",
    "data = Ames[['ExterQual', 'GarageFinish']].copy()\n",
    "\n",
    "# Filling missing values in the 'GarageFinish' column with 'No Garage'\n",
    "data['GarageFinish'] = data['GarageFinish'].fillna('No Garage')\n",
    "\n",
    "# Grouping 'GarageFinish' into 'With Garage' and 'No Garage'\n",
    "data['Garage Group'] = data['GarageFinish'].apply(\n",
    "    lambda x: 'With Garage' if x != 'No Garage' else 'No Garage'\n",
    ")\n",
    "\n",
    "# Grouping 'ExterQual' into 'Great' and 'Average'\n",
    "data['Quality Group'] = data['ExterQual'].apply(\n",
    "    lambda x: 'Great' if x in ['Ex', 'Gd'] else 'Average'\n",
    ")\n",
    "\n",
    "# Constructing the simplified contingency table\n",
    "simplified_contingency_table = pd.crosstab(\n",
    "    data['Quality Group'],\n",
    "    data['Garage Group']\n",
    ")\n",
    "\n",
    "# Printing the Observed Frequency\n",
    "print(\"Observed Frequencies:\")\n",
    "observed_df = pd.DataFrame(\n",
    "    simplified_contingency_table,\n",
    "    index=[\"Average\", \"Great\"],\n",
    "    columns=[\"No Garage\", \"With Garage\"]\n",
    ")\n",
    "print(observed_df)\n",
    "print()\n",
    "\n",
    "# Performing the chi-squared test\n",
    "chi2_stat, p_value, _, expected_freq = chi2_contingency(simplified_contingency_table)\n",
    "\n",
    "# Printing the Expected Frequencies\n",
    "print(\"Expected Frequencies:\")\n",
    "print(\n",
    "    pd.DataFrame(\n",
    "        expected_freq,\n",
    "        index=[\"Average\", \"Great\"],\n",
    "        columns=[\"No Garage\", \"With Garage\"]\n",
    "    ).round(1)\n",
    ")\n",
    "print()\n",
    "\n",
    "# Printing the results of the test\n",
    "print(f\"Chi-squared Statistic: {chi2_stat:.4f}\")\n",
    "print(f\"p-value: {p_value:.4e}\")"
   ]
  }
 ],
 "metadata": {
  "kernelspec": {
   "display_name": "Python 3 (ipykernel)",
   "language": "python",
   "name": "python3"
  },
  "language_info": {
   "codemirror_mode": {
    "name": "ipython",
    "version": 3
   },
   "file_extension": ".py",
   "mimetype": "text/x-python",
   "name": "python",
   "nbconvert_exporter": "python",
   "pygments_lexer": "ipython3",
   "version": "3.11.10"
  }
 },
 "nbformat": 4,
 "nbformat_minor": 5
}
