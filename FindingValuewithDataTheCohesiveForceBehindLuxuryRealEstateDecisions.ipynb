{
 "cells": [
  {
   "cell_type": "code",
   "execution_count": 6,
   "id": "8f122f63-52ee-46a0-94d8-7e9f5135f9ef",
   "metadata": {},
   "outputs": [
    {
     "name": "stdout",
     "output_type": "stream",
     "text": [
      "      SalePrice  GrLivArea  OverallQual KitchenQual  TotRmsAbvGrd  Fireplaces\n",
      "1007     755000       4316           10          Ex            10           2\n",
      "1325     625000       3627           10          Gd            10           1\n",
      "65       615000       2470           10          Ex             7           2\n",
      "584      611657       2364            9          Ex            11           2\n",
      "1639     610000       2674           10          Ex             8           2\n",
      "615      591587       2338            9          Gd             8           2\n",
      "2087     584500       3500            9          Ex            11           1\n",
      "1112     555000       2402           10          Ex            10           2\n",
      "802      538000       3279            8          Ex            12           1\n",
      "407      535000       2698           10          Ex            11           1\n"
     ]
    }
   ],
   "source": [
    "import pandas as pd\n",
    "\n",
    "# Cargar el archivo CSV\n",
    "Ames = pd.read_csv('Ames.csv')\n",
    "\n",
    "# Identificar las 10 casas más caras basadas en SalePrice con características clave\n",
    "top_10_expensive_homes = Ames.nlargest(10, 'SalePrice')\n",
    "\n",
    "# Seleccionar características clave\n",
    "features = ['SalePrice', 'GrLivArea', 'OverallQual', 'KitchenQual', 'TotRmsAbvGrd', 'Fireplaces']\n",
    "top_10_df = top_10_expensive_homes[features]\n",
    "\n",
    "# Mostrar el DataFrame\n",
    "print(top_10_df)"
   ]
  },
  {
   "cell_type": "code",
   "execution_count": 8,
   "id": "6a1bc7db-b659-483e-9421-c89646d5886d",
   "metadata": {},
   "outputs": [
    {
     "name": "stdout",
     "output_type": "stream",
     "text": [
      "      SalePrice  GrLivArea  OverallQual KitchenQual  TotRmsAbvGrd  Fireplaces\n",
      "1007     755000       4316           10          Ex            10           2\n",
      "65       615000       2470           10          Ex             7           2\n",
      "1639     610000       2674           10          Ex             8           2\n",
      "1112     555000       2402           10          Ex            10           2\n"
     ]
    }
   ],
   "source": [
    "import pandas as pd\n",
    "\n",
    "# Cargar los datos\n",
    "Ames = pd.read_csv('Ames.csv')\n",
    "\n",
    "# Obtener las 10 casas más caras según SalePrice\n",
    "top_10_expensive_homes = Ames.nlargest(10, 'SalePrice')\n",
    "\n",
    "# Seleccionar las características clave\n",
    "features = ['SalePrice', 'GrLivArea', 'OverallQual', 'KitchenQual', 'TotRmsAbvGrd', 'Fireplaces']\n",
    "top_10_df = top_10_expensive_homes[features]\n",
    "\n",
    "# Refinar la búsqueda: calidad general 10, cocina excelente y al menos 2 chimeneas\n",
    "elite = top_10_df.query('OverallQual == 10 & KitchenQual == \"Ex\" & Fireplaces >= 2')\n",
    "\n",
    "# Mostrar resultados\n",
    "print(elite)\n"
   ]
  },
  {
   "cell_type": "code",
   "execution_count": 10,
   "id": "a569179b-8990-4302-bcb3-37307339fd83",
   "metadata": {},
   "outputs": [
    {
     "name": "stdout",
     "output_type": "stream",
     "text": [
      "      SalePrice  GrLivArea  OverallQual KitchenQual  TotRmsAbvGrd  Fireplaces  \\\n",
      "1007     755000       4316           10          Ex            10           2   \n",
      "1639     610000       2674           10          Ex             8           2   \n",
      "1112     555000       2402           10          Ex            10           2   \n",
      "65       615000       2470           10          Ex             7           2   \n",
      "\n",
      "             PSF  \n",
      "1007  174.930491  \n",
      "1639  228.122663  \n",
      "1112  231.057452  \n",
      "65    248.987854  \n"
     ]
    }
   ],
   "source": [
    "import pandas as pd\n",
    "\n",
    "# Cargar los datos\n",
    "Ames = pd.read_csv('Ames.csv')\n",
    "\n",
    "# Obtener las 10 casas más caras según SalePrice\n",
    "top_10_expensive_homes = Ames.nlargest(10, 'SalePrice')\n",
    "\n",
    "# Seleccionar las características clave\n",
    "features = ['SalePrice', 'GrLivArea', 'OverallQual', 'KitchenQual', 'TotRmsAbvGrd', 'Fireplaces']\n",
    "top_10_df = top_10_expensive_homes[features]\n",
    "\n",
    "# Filtrar casas con alta calidad, cocina excelente y al menos 2 chimeneas\n",
    "elite = top_10_df.query('OverallQual == 10 & KitchenQual == \"Ex\" & Fireplaces >= 2').copy()\n",
    "\n",
    "# Calcular el precio por pie cuadrado (Price per Square Foot)\n",
    "elite['PSF'] = elite['SalePrice'] / elite['GrLivArea']\n",
    "\n",
    "# Mostrar casas ordenadas por PSF\n",
    "print(elite.sort_values(by='PSF'))"
   ]
  },
  {
   "cell_type": "code",
   "execution_count": 13,
   "id": "d8ac4a17-a58e-4c0c-9638-7b2bb7e7ce9d",
   "metadata": {},
   "outputs": [
    {
     "name": "stdout",
     "output_type": "stream",
     "text": [
      "      SalePrice  GrLivArea  OverallQual KitchenQual  TotRmsAbvGrd  Fireplaces  \\\n",
      "1007     755000       4316           10          Ex            10           2   \n",
      "2003     475000       3608           10          Ex            12           2   \n",
      "\n",
      "             PSF  \n",
      "1007  174.930491  \n",
      "2003  131.651885  \n"
     ]
    }
   ],
   "source": [
    "import pandas as pd\n",
    "\n",
    "Ames = pd.read_csv('Ames.csv')\n",
    "\n",
    "# Cross check entire homes to search for better value\n",
    "Ames['PSF'] = Ames['SalePrice']/Ames['GrLivArea']\n",
    "value = Ames.query('PSF < 175 & OverallQual == 10 & KitchenQual == \"Ex\" & Fireplaces >=2')\n",
    "print(value[['SalePrice', 'GrLivArea', 'OverallQual', 'KitchenQual', 'TotRmsAbvGrd', 'Fireplaces', 'PSF']])"
   ]
  },
  {
   "cell_type": "code",
   "execution_count": 15,
   "id": "799f32e1-42f2-4035-85f1-7b49e34f5228",
   "metadata": {},
   "outputs": [],
   "source": [
    "import pandas as pd\n",
    "import folium\n",
    "\n",
    "# Cargar los datos\n",
    "Ames = pd.read_csv('Ames.csv')\n",
    "\n",
    "# Calcular el precio por pie cuadrado (PSF)\n",
    "Ames['PSF'] = Ames['SalePrice'] / Ames['GrLivArea']\n",
    "\n",
    "# Filtrar propiedades con alta calidad y buena relación calidad-precio\n",
    "value = Ames.query('PSF < 175 & OverallQual == 10 & KitchenQual == \"Ex\" & Fireplaces >= 2')\n",
    "\n",
    "# Obtener los índices de las observaciones seleccionadas\n",
    "final_observation_indexes = value.index.tolist()\n",
    "\n",
    "# Filtrar dataset para obtener latitud y longitud\n",
    "final_locations = Ames.loc[final_observation_indexes, ['Latitude', 'Longitude']]\n",
    "\n",
    "# Crear un mapa centrado en el promedio de las ubicaciones finales\n",
    "map_center = [final_locations['Latitude'].mean(), final_locations['Longitude'].mean()]\n",
    "value_map = folium.Map(location=map_center, zoom_start=12)\n",
    "\n",
    "# Agregar marcadores con información adicional\n",
    "for idx, row in final_locations.iterrows():\n",
    "    info = value.loc[idx, ['SalePrice', 'GrLivArea', 'OverallQual', 'KitchenQual',\n",
    "                           'TotRmsAbvGrd', 'Fireplaces', 'PSF']]\n",
    "    popup_text = f\"\"\"\n",
    "    <b>Index:</b> {idx}<br>\n",
    "    <b>SalePrice:</b> ${info['SalePrice']}<br>\n",
    "    <b>GrLivArea:</b> {info['GrLivArea']} sqft<br>\n",
    "    <b>OverallQual:</b> {info['OverallQual']}<br>\n",
    "    <b>KitchenQual:</b> {info['KitchenQual']}<br>\n",
    "    <b>TotRmsAbvGrd:</b> {info['TotRmsAbvGrd']}<br>\n",
    "    <b>Fireplaces:</b> {info['Fireplaces']}<br>\n",
    "    <b>PSF:</b> ${info['PSF']:.2f} /sqft\n",
    "    \"\"\"\n",
    "    folium.Marker(\n",
    "        [row['Latitude'], row['Longitude']],\n",
    "        popup=folium.Popup(popup_text, max_width=250)\n",
    "    ).add_to(value_map)\n",
    "\n",
    "# Guardar el mapa en un archivo HTML\n",
    "value_map.save('value_map.html')"
   ]
  },
  {
   "cell_type": "code",
   "execution_count": 17,
   "id": "53aa9ad4-b500-4a1e-8533-68b82476e791",
   "metadata": {},
   "outputs": [],
   "source": [
    "import pandas as pd\n",
    "import folium\n",
    "from folium.plugins import HeatMap\n",
    "\n",
    "# Cargar los datos\n",
    "Ames = pd.read_csv('Ames.csv')\n",
    "\n",
    "# Filtrar filas sin coordenadas geográficas\n",
    "Ames_Heat = Ames.dropna(subset=['Latitude', 'Longitude'])\n",
    "\n",
    "# Agrupar por vecindario y calcular la latitud y longitud promedio\n",
    "neighborhood_locs = Ames_Heat.groupby('Neighborhood') \\\n",
    "    .agg({'Latitude': 'mean', 'Longitude': 'mean'}) \\\n",
    "    .reset_index()\n",
    "\n",
    "# Centro del mapa en Ames, Iowa\n",
    "ames_map_center = [Ames_Heat['Latitude'].mean(), Ames_Heat['Longitude'].mean()]\n",
    "ames_heatmap = folium.Map(location=ames_map_center, zoom_start=12)\n",
    "\n",
    "# Extraer datos para el HeatMap\n",
    "heat_data = [(lat, lon) for lat, lon in zip(Ames_Heat['Latitude'], Ames_Heat['Longitude'])]\n",
    "\n",
    "# Crear y añadir la capa HeatMap\n",
    "HeatMap(heat_data, radius=12).add_to(ames_heatmap)\n",
    "\n",
    "# Añadir una bandera negra por vecindario\n",
    "for index, row in neighborhood_locs.iterrows():\n",
    "    folium.Marker(\n",
    "        location=[row['Latitude'], row['Longitude']],\n",
    "        popup=row['Neighborhood'],\n",
    "        icon=folium.Icon(color='black', icon='flag')\n",
    "    ).add_to(ames_heatmap)\n",
    "\n",
    "# Guardar el mapa en un archivo HTML\n",
    "ames_heatmap.save('ames_heatmap.html')"
   ]
  },
  {
   "cell_type": "code",
   "execution_count": null,
   "id": "65ae15a0-061c-4ead-aa0f-1d2f675f6587",
   "metadata": {},
   "outputs": [],
   "source": []
  }
 ],
 "metadata": {
  "kernelspec": {
   "display_name": "Python 3 (ipykernel)",
   "language": "python",
   "name": "python3"
  },
  "language_info": {
   "codemirror_mode": {
    "name": "ipython",
    "version": 3
   },
   "file_extension": ".py",
   "mimetype": "text/x-python",
   "name": "python",
   "nbconvert_exporter": "python",
   "pygments_lexer": "ipython3",
   "version": "3.11.10"
  }
 },
 "nbformat": 4,
 "nbformat_minor": 5
}
